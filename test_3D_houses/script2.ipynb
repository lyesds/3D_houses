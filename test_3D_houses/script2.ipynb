import geopandas as gpd
from osgeo import gdal
import shapely

gdf = gpd.read_file('/home/becode/Downloads/DHMVIIDTMRAS1m_k01/DHMVII_vdc_k01/DHMVII_vdc_k01.shp')
print(gdf.shape)
print(gdf.head())