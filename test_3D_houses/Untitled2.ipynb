{
 "cells": [
  {
   "cell_type": "code",
   "execution_count": null,
   "id": "4ca8639f",
   "metadata": {},
   "outputs": [],
   "source": [
    "da = xr.open_rasterio(’D:/Data/SRTM_Ph/srtm_luzon_clipped.tif’)\n",
    "transform = Affine.from_gdal(*da.attrs[’transform’]) # this is important to retain the geographic attributes from the file"
   ]
  }
 ],
 "metadata": {
  "kernelspec": {
   "display_name": "Python 3",
   "language": "python",
   "name": "python3"
  },
  "language_info": {
   "codemirror_mode": {
    "name": "ipython",
    "version": 3
   },
   "file_extension": ".py",
   "mimetype": "text/x-python",
   "name": "python",
   "nbconvert_exporter": "python",
   "pygments_lexer": "ipython3",
   "version": "3.8.5"
  }
 },
 "nbformat": 4,
 "nbformat_minor": 5
}
