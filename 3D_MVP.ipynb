{
 "cells": [
  {
   "cell_type": "markdown",
   "id": "371d6b47",
   "metadata": {},
   "source": [
    "# 3D_houses project"
   ]
  },
  {
   "cell_type": "markdown",
   "id": "8cb37511",
   "metadata": {},
   "source": [
    "### Team SpaCy : _Arnaud D, Lyes R, Shilpa S_"
   ]
  },
  {
   "cell_type": "markdown",
   "id": "ba54728c",
   "metadata": {},
   "source": [
    "## Import the required libraries\n"
   ]
  },
  {
   "cell_type": "code",
   "execution_count": null,
   "id": "20a89867",
   "metadata": {},
   "outputs": [],
   "source": [
    "import pandas as pd\n",
    "import numpy as np\n",
    "import os\n",
    "\n",
    "import random\n",
    "import requests\n",
    "\n",
    "from osgeo import gdal\n",
    "import geopandas as gpd\n",
    "import shapely.geometry as Point, Polygon\n",
    "\n",
    "import matplotlib.pyplot as plt\n"
   ]
  },
  {
   "cell_type": "markdown",
   "id": "ceef859c",
   "metadata": {},
   "source": [
    "## Data collection\n"
   ]
  },
  {
   "cell_type": "markdown",
   "id": "98c1efb4",
   "metadata": {},
   "source": [
    "### Tif files / breaking of tiffs/ tiff related function\n"
   ]
  },
  {
   "cell_type": "markdown",
   "id": "acf14e6c",
   "metadata": {},
   "source": [
    "### DSM tifs"
   ]
  },
  {
   "cell_type": "code",
   "execution_count": null,
   "id": "87ce4a1c",
   "metadata": {},
   "outputs": [],
   "source": [
    "# function"
   ]
  },
  {
   "cell_type": "markdown",
   "id": "fa934141",
   "metadata": {},
   "source": [
    "### DTM tifs"
   ]
  },
  {
   "cell_type": "code",
   "execution_count": null,
   "id": "b4931dc8",
   "metadata": {},
   "outputs": [],
   "source": [
    "# function"
   ]
  },
  {
   "cell_type": "code",
   "execution_count": null,
   "id": "59eaa003",
   "metadata": {},
   "outputs": [],
   "source": [
    "# a common function for both, acc to what we have"
   ]
  },
  {
   "cell_type": "markdown",
   "id": "ba3534af",
   "metadata": {},
   "source": [
    "### Shape files .shp"
   ]
  },
  {
   "cell_type": "code",
   "execution_count": null,
   "id": "e7e2b1ed",
   "metadata": {},
   "outputs": [],
   "source": [
    "# function to get the .shp files in one place, we might need this one."
   ]
  },
  {
   "cell_type": "markdown",
   "id": "dd38155a",
   "metadata": {},
   "source": [
    "## Input \n"
   ]
  },
  {
   "cell_type": "markdown",
   "id": "e5098651",
   "metadata": {},
   "source": [
    "### Single address  \n",
    "Address can be in EN, NL or FR"
   ]
  },
  {
   "cell_type": "code",
   "execution_count": null,
   "id": "a90c05de",
   "metadata": {},
   "outputs": [],
   "source": [
    "address = 'Schoenmarkt 35, 2000 Antwerpen'"
   ]
  },
  {
   "cell_type": "code",
   "execution_count": null,
   "id": "3726da7a",
   "metadata": {},
   "outputs": [],
   "source": [
    "list_of_addresses = [\"Aaigemstraat 10, Gent\",\n",
    "                     \"Schoenmarkt 35, 2000 Antwerpen\",\n",
    "                     \"Steenstraat 75, Bruges 8000\"\n",
    "                    ]\n",
    "\n",
    "address = random.choice(list_of_addresses)"
   ]
  },
  {
   "cell_type": "code",
   "execution_count": null,
   "id": "d543a963",
   "metadata": {},
   "outputs": [],
   "source": [
    "# function to show the address on google map\n",
    "\n",
    "# maybe break in 2 functions : 1 to give coordinates, 1 to plot\n"
   ]
  },
  {
   "cell_type": "code",
   "execution_count": 7,
   "id": "2fcabe86",
   "metadata": {},
   "outputs": [],
   "source": [
    "# we will display here in output the google map image"
   ]
  },
  {
   "cell_type": "markdown",
   "id": "c2ca4b32",
   "metadata": {},
   "source": [
    "### Getting x, y coordinates for given address"
   ]
  },
  {
   "cell_type": "code",
   "execution_count": null,
   "id": "ecfd60f9",
   "metadata": {},
   "outputs": [],
   "source": [
    "# api-endpoint\n",
    "URL = \"https://loc.geopunt.be/v1/location?\"\n",
    "\n",
    "#get x, y coordinates (Belgium specific Lambert72 i.e; epsg:31370) for a given address, using a public api.\n",
    "x, y = apisearch_for_lambert(address)"
   ]
  },
  {
   "cell_type": "markdown",
   "id": "7530de5a",
   "metadata": {},
   "source": [
    "### Retrieving the corresponding polygon from .shp file"
   ]
  },
  {
   "cell_type": "code",
   "execution_count": null,
   "id": "0fadb783",
   "metadata": {},
   "outputs": [],
   "source": [
    "polygon = matching_polygon() #still to be merged"
   ]
  },
  {
   "cell_type": "code",
   "execution_count": null,
   "id": "95362a6d",
   "metadata": {},
   "outputs": [],
   "source": []
  }
 ],
 "metadata": {
  "kernelspec": {
   "display_name": "Python 3",
   "language": "python",
   "name": "python3"
  },
  "language_info": {
   "codemirror_mode": {
    "name": "ipython",
    "version": 3
   },
   "file_extension": ".py",
   "mimetype": "text/x-python",
   "name": "python",
   "nbconvert_exporter": "python",
   "pygments_lexer": "ipython3",
   "version": "3.8.5"
  }
 },
 "nbformat": 4,
 "nbformat_minor": 5
}
